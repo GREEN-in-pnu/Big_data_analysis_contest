{
 "cells": [
  {
   "cell_type": "code",
   "execution_count": 1,
   "id": "3da635f1-a833-4740-ba4a-0b71d2ec9d1b",
   "metadata": {},
   "outputs": [],
   "source": [
    "import pandas as pd\n",
    "\n",
    "tour_points = pd.read_csv('tbbp23_bs_16_202506251117.csv')\n",
    "accommodations = pd.read_csv('filtered_data.csv')"
   ]
  },
  {
   "cell_type": "code",
   "execution_count": 2,
   "id": "e822fc97-c395-4ee9-a88f-6ea130fe345e",
   "metadata": {},
   "outputs": [
    {
     "data": {
      "text/html": [
       "<div>\n",
       "<style scoped>\n",
       "    .dataframe tbody tr th:only-of-type {\n",
       "        vertical-align: middle;\n",
       "    }\n",
       "\n",
       "    .dataframe tbody tr th {\n",
       "        vertical-align: top;\n",
       "    }\n",
       "\n",
       "    .dataframe thead th {\n",
       "        text-align: right;\n",
       "    }\n",
       "</style>\n",
       "<table border=\"1\" class=\"dataframe\">\n",
       "  <thead>\n",
       "    <tr style=\"text-align: right;\">\n",
       "      <th></th>\n",
       "      <th>LOC_NM</th>\n",
       "      <th>LATITUDE</th>\n",
       "      <th>LONGITUDE</th>\n",
       "    </tr>\n",
       "  </thead>\n",
       "  <tbody>\n",
       "    <tr>\n",
       "      <th>0</th>\n",
       "      <td>40계단</td>\n",
       "      <td>35.104343</td>\n",
       "      <td>129.035340</td>\n",
       "    </tr>\n",
       "    <tr>\n",
       "      <th>1</th>\n",
       "      <td>40계단테마거리</td>\n",
       "      <td>35.103972</td>\n",
       "      <td>129.034629</td>\n",
       "    </tr>\n",
       "    <tr>\n",
       "      <th>2</th>\n",
       "      <td>BIFF광장</td>\n",
       "      <td>35.098620</td>\n",
       "      <td>129.028759</td>\n",
       "    </tr>\n",
       "    <tr>\n",
       "      <th>3</th>\n",
       "      <td>광복로</td>\n",
       "      <td>35.099470</td>\n",
       "      <td>129.031166</td>\n",
       "    </tr>\n",
       "    <tr>\n",
       "      <th>4</th>\n",
       "      <td>백산기념관</td>\n",
       "      <td>35.101955</td>\n",
       "      <td>129.034560</td>\n",
       "    </tr>\n",
       "  </tbody>\n",
       "</table>\n",
       "</div>"
      ],
      "text/plain": [
       "     LOC_NM   LATITUDE   LONGITUDE\n",
       "0      40계단  35.104343  129.035340\n",
       "1  40계단테마거리  35.103972  129.034629\n",
       "2    BIFF광장  35.098620  129.028759\n",
       "3       광복로  35.099470  129.031166\n",
       "4     백산기념관  35.101955  129.034560"
      ]
     },
     "execution_count": 2,
     "metadata": {},
     "output_type": "execute_result"
    }
   ],
   "source": [
    "tour_points.head()"
   ]
  },
  {
   "cell_type": "code",
   "execution_count": 7,
   "id": "96de05a3-bbe7-44e9-a97a-0212e3378e46",
   "metadata": {},
   "outputs": [],
   "source": [
    "import numpy as np"
   ]
  },
  {
   "cell_type": "code",
   "execution_count": 8,
   "id": "f085f01a-d5e7-4ee5-b405-b3f371391147",
   "metadata": {},
   "outputs": [],
   "source": [
    "숙박 = pd.read_csv('filtered_data.csv')\n",
    "명소 = pd.read_csv('tbbp23_bs_16_202506251117.csv')\n",
    "\n",
    "RADIUS_KM = 1.0\n",
    "\n",
    "nearby_counts = []\n",
    "\n",
    "def haversine(lat1, lon1, lat2, lon2):\n",
    "    R = 6371\n",
    "    lat1, lon1, lat2, lon2 = map(np.radians, [lat1, lon1, lat2, lon2])\n",
    "    dlat = lat2 - lat1\n",
    "    dlon = lon2 - lon1\n",
    "    a = np.sin(dlat/2.0)**2 + np.cos(lat1)*np.cos(lat2)*np.sin(dlon/2.0)**2\n",
    "    c = 2*np.arcsin(np.sqrt(a))\n",
    "    return R*c\n",
    "\n",
    "for i, 숙_row in 숙박.iterrows():\n",
    "    lat1 = 숙_row['위도']\n",
    "    lon1 = 숙_row['경도']\n",
    "    distances = haversine(lat1, lon1, 명소['LATITUDE'].values, 명소['LONGITUDE'].values)\n",
    "    count = np.sum(distances <= RADIUS_KM)\n",
    "    nearby_counts.append(count)\n",
    "\n",
    "숙박['주변명소 수']=nearby_counts\n",
    "    "
   ]
  },
  {
   "cell_type": "code",
   "execution_count": 11,
   "id": "c41ac375-644c-4c01-9a90-1cc915166ce8",
   "metadata": {},
   "outputs": [],
   "source": [
    "from sklearn.preprocessing import MinMaxScaler\n",
    "\n",
    "scaler = MinMaxScaler()\n",
    "숙박['숙박점수_norm'] = scaler.fit_transform(숙박[['숙박점수']])\n",
    "숙박['명소수_norm'] = scaler.fit_transform(숙박[['주변명소 수']])\n",
    "\n",
    "숙박['숙박점수_역'] = 1-숙박['숙박점수_norm']\n",
    "숙박['종합점수'] = 0.5*숙박['숙박점수_역'] + 0.5*숙박['명소수_norm']"
   ]
  },
  {
   "cell_type": "code",
   "execution_count": 15,
   "id": "f6d8eb4e-eb0d-4870-9042-ad062f4d1bbf",
   "metadata": {},
   "outputs": [
    {
     "data": {
      "text/plain": [
       "주변명소 수\n",
       "0     1020\n",
       "4      230\n",
       "7      198\n",
       "5       84\n",
       "47      83\n",
       "1       63\n",
       "9       60\n",
       "6       53\n",
       "3       47\n",
       "10      46\n",
       "11      36\n",
       "44      21\n",
       "8       15\n",
       "38      11\n",
       "41      10\n",
       "13      10\n",
       "35       9\n",
       "29       6\n",
       "23       6\n",
       "17       6\n",
       "2        6\n",
       "27       6\n",
       "32       5\n",
       "22       4\n",
       "16       4\n",
       "20       4\n",
       "26       3\n",
       "18       3\n",
       "14       2\n",
       "28       2\n",
       "15       1\n",
       "37       1\n",
       "40       1\n",
       "12       1\n",
       "25       1\n",
       "43       1\n",
       "19       1\n",
       "Name: count, dtype: int64"
      ]
     },
     "execution_count": 15,
     "metadata": {},
     "output_type": "execute_result"
    }
   ],
   "source": [
    "숙박['주변명소 수'].value_counts()"
   ]
  },
  {
   "cell_type": "markdown",
   "id": "fa6b04fd-5ab3-4997-a889-e188dca4f18f",
   "metadata": {},
   "source": [
    "숙박 행들 중 주변명소 수 가 0인 행이 1020개에 해당했음. 이대로 분석을 진행한다면 전체 분석의 신뢰도와 로직에 큰 영향을 미칠 것으로 예상되므로, 별도의 처리가 필요할 것으로 판단.\n",
    "우선 이 데이터가 의미하는 것은 1km 반경 내에 관광명소가 전혀 없는 숙박시설이 1020곳이었다, 그럼에도 이 숙박업소들 중 일부는 여전히 우수한 친환경 점수 후보일 수 있다. 그러나 주변 명소가 0개이면 관광 편의성 측면에서 추천도는 낮아야 한다. 이 세 가지 측면을 모두 고려해 다시 점수를 매겨야 함."
   ]
  },
  {
   "cell_type": "code",
   "execution_count": 17,
   "id": "212a15b7-05c1-43b5-905a-21b8cbd177c6",
   "metadata": {},
   "outputs": [],
   "source": [
    "# option 1. 명소 수가 0이면 종합 점수에 불이익을 주는 방식. 가장 직관적, 사용자 기대와도 부합. 별도 처리가 없어도 자동으로 주변 명소 없는 숙소는 종합점수 낮아짐.\n",
    "숙박['명소수_norm'] = scaler.fit_transform(숙박[['주변명소 수']])\n",
    "\n",
    "숙박['종합점수'] = 0.5*(1-숙박['숙박점수_norm'])+0.5*숙박['명소수_norm']"
   ]
  },
  {
   "cell_type": "code",
   "execution_count": null,
   "id": "d22312ae-0d5b-4476-9704-c580aaca3274",
   "metadata": {},
   "outputs": [],
   "source": [
    "# option 2. 주변 명소 수가 0이더라도 친환경 점수가 매우 좋으면 예외적으로 추천. 친환경 점수 우수+명소 없음->지속가능 관광지 후보로 따로 분류\n",
    "숙박['추천분류'] = 숙박.apply(lambda row:\n",
    "                      '최우수' if row['종합점수'] >= 0.8 else (\n",
    "                          '친환경_단독' if row['주변명소 수'] == 0 and row['숙박점수'] <= 숙박['숙박점수'].quantile(0.1)\n",
    "                          else '일반'), axis=1)"
   ]
  },
  {
   "cell_type": "code",
   "execution_count": 18,
   "id": "f3c798bd-e828-43fc-bf1a-830d5bf6ab10",
   "metadata": {},
   "outputs": [
    {
     "data": {
      "text/html": [
       "<div>\n",
       "<style scoped>\n",
       "    .dataframe tbody tr th:only-of-type {\n",
       "        vertical-align: middle;\n",
       "    }\n",
       "\n",
       "    .dataframe tbody tr th {\n",
       "        vertical-align: top;\n",
       "    }\n",
       "\n",
       "    .dataframe thead th {\n",
       "        text-align: right;\n",
       "    }\n",
       "</style>\n",
       "<table border=\"1\" class=\"dataframe\">\n",
       "  <thead>\n",
       "    <tr style=\"text-align: right;\">\n",
       "      <th></th>\n",
       "      <th>업체명</th>\n",
       "      <th>경도</th>\n",
       "      <th>위도</th>\n",
       "      <th>숙박유형</th>\n",
       "      <th>숙박점수</th>\n",
       "      <th>주변명소 수</th>\n",
       "      <th>숙박점수_norm</th>\n",
       "      <th>명소수_norm</th>\n",
       "      <th>숙박점수_역</th>\n",
       "      <th>종합점수</th>\n",
       "    </tr>\n",
       "  </thead>\n",
       "  <tbody>\n",
       "    <tr>\n",
       "      <th>0</th>\n",
       "      <td>베스티호텔</td>\n",
       "      <td>128.853975</td>\n",
       "      <td>35.128196</td>\n",
       "      <td>호텔/리조트</td>\n",
       "      <td>28.03</td>\n",
       "      <td>0</td>\n",
       "      <td>1.000000</td>\n",
       "      <td>0.0</td>\n",
       "      <td>0.000000</td>\n",
       "      <td>0.000000</td>\n",
       "    </tr>\n",
       "    <tr>\n",
       "      <th>1</th>\n",
       "      <td>대저캠핑장</td>\n",
       "      <td>128.991081</td>\n",
       "      <td>35.215947</td>\n",
       "      <td>캠핑/카라반/글램핑</td>\n",
       "      <td>7.98</td>\n",
       "      <td>0</td>\n",
       "      <td>0.000000</td>\n",
       "      <td>0.0</td>\n",
       "      <td>1.000000</td>\n",
       "      <td>0.500000</td>\n",
       "    </tr>\n",
       "    <tr>\n",
       "      <th>2</th>\n",
       "      <td>공항하숙</td>\n",
       "      <td>128.955791</td>\n",
       "      <td>35.180705</td>\n",
       "      <td>펜션/민박/유스호스텔</td>\n",
       "      <td>8.51</td>\n",
       "      <td>0</td>\n",
       "      <td>0.026434</td>\n",
       "      <td>0.0</td>\n",
       "      <td>0.973566</td>\n",
       "      <td>0.486783</td>\n",
       "    </tr>\n",
       "    <tr>\n",
       "      <th>3</th>\n",
       "      <td>에어포트호텔</td>\n",
       "      <td>128.954507</td>\n",
       "      <td>35.165692</td>\n",
       "      <td>호텔/리조트</td>\n",
       "      <td>28.03</td>\n",
       "      <td>0</td>\n",
       "      <td>1.000000</td>\n",
       "      <td>0.0</td>\n",
       "      <td>0.000000</td>\n",
       "      <td>0.000000</td>\n",
       "    </tr>\n",
       "    <tr>\n",
       "      <th>4</th>\n",
       "      <td>초롱블루펜션</td>\n",
       "      <td>128.834494</td>\n",
       "      <td>35.015366</td>\n",
       "      <td>펜션/민박/유스호스텔</td>\n",
       "      <td>8.51</td>\n",
       "      <td>0</td>\n",
       "      <td>0.026434</td>\n",
       "      <td>0.0</td>\n",
       "      <td>0.973566</td>\n",
       "      <td>0.486783</td>\n",
       "    </tr>\n",
       "  </tbody>\n",
       "</table>\n",
       "</div>"
      ],
      "text/plain": [
       "      업체명          경도         위도         숙박유형   숙박점수  주변명소 수  숙박점수_norm  \\\n",
       "0   베스티호텔  128.853975  35.128196       호텔/리조트  28.03       0   1.000000   \n",
       "1   대저캠핑장  128.991081  35.215947   캠핑/카라반/글램핑   7.98       0   0.000000   \n",
       "2    공항하숙  128.955791  35.180705  펜션/민박/유스호스텔   8.51       0   0.026434   \n",
       "3  에어포트호텔  128.954507  35.165692       호텔/리조트  28.03       0   1.000000   \n",
       "4  초롱블루펜션  128.834494  35.015366  펜션/민박/유스호스텔   8.51       0   0.026434   \n",
       "\n",
       "   명소수_norm    숙박점수_역      종합점수  \n",
       "0       0.0  0.000000  0.000000  \n",
       "1       0.0  1.000000  0.500000  \n",
       "2       0.0  0.973566  0.486783  \n",
       "3       0.0  0.000000  0.000000  \n",
       "4       0.0  0.973566  0.486783  "
      ]
     },
     "execution_count": 18,
     "metadata": {},
     "output_type": "execute_result"
    }
   ],
   "source": [
    "숙박.head()"
   ]
  },
  {
   "cell_type": "code",
   "execution_count": 20,
   "id": "190a3e04-aac6-4123-97ef-ea976ed70451",
   "metadata": {},
   "outputs": [],
   "source": [
    "숙박.to_csv('숙박_종합친환경점수.csv', index=False, encoding='utf-8-sig')"
   ]
  },
  {
   "cell_type": "code",
   "execution_count": 21,
   "id": "0c6a76a5-990c-44be-9b4a-8bae702e8f91",
   "metadata": {},
   "outputs": [],
   "source": [
    "# option 3. 반경 확장\n",
    "숙박2 = pd.read_csv('filtered_data.csv')\n",
    "명소 = pd.read_csv('tbbp23_bs_16_202506251117.csv')\n",
    "\n",
    "숙박3 = pd.read_csv('filtered_data.csv')\n",
    "\n",
    "\n",
    "RADIUS_KM_2 = 2.0\n",
    "RADIUS_KM_3 = 3.0\n",
    "\n",
    "nearby_counts = []\n",
    "\n",
    "def haversine(lat1, lon1, lat2, lon2):\n",
    "    R = 6371\n",
    "    lat1, lon1, lat2, lon2 = map(np.radians, [lat1, lon1, lat2, lon2])\n",
    "    dlat = lat2 - lat1\n",
    "    dlon = lon2 - lon1\n",
    "    a = np.sin(dlat/2.0)**2 + np.cos(lat1)*np.cos(lat2)*np.sin(dlon/2.0)**2\n",
    "    c = 2*np.arcsin(np.sqrt(a))\n",
    "    return R*c\n",
    "\n",
    "for i, 숙_row in 숙박2.iterrows():\n",
    "    lat1 = 숙_row['위도']\n",
    "    lon1 = 숙_row['경도']\n",
    "    distances = haversine(lat1, lon1, 명소['LATITUDE'].values, 명소['LONGITUDE'].values)\n",
    "    count = np.sum(distances <= RADIUS_KM_2)\n",
    "    nearby_counts.append(count)\n",
    "숙박2['주변명소 수']=nearby_counts\n",
    "\n",
    "nearby_counts = []\n",
    "for i, 숙_row in 숙박3.iterrows():\n",
    "    lat1 = 숙_row['위도']\n",
    "    lon1 = 숙_row['경도']\n",
    "    distances = haversine(lat1, lon1, 명소['LATITUDE'].values, 명소['LONGITUDE'].values)\n",
    "    count = np.sum(distances <= RADIUS_KM_3)\n",
    "    nearby_counts.append(count)\n",
    "\n",
    "숙박3['주변명소 수']=nearby_counts"
   ]
  },
  {
   "cell_type": "code",
   "execution_count": 22,
   "id": "d5201382-c489-4781-8e54-1d6684afac66",
   "metadata": {},
   "outputs": [],
   "source": [
    "from sklearn.preprocessing import MinMaxScaler\n",
    "\n",
    "scaler = MinMaxScaler()\n",
    "숙박2['숙박점수_norm'] = scaler.fit_transform(숙박2[['숙박점수']])\n",
    "숙박2['명소수_norm'] = scaler.fit_transform(숙박2[['주변명소 수']])\n",
    "\n",
    "숙박2['숙박점수_역'] = 1-숙박2['숙박점수_norm']\n",
    "숙박2['종합점수'] = 0.5*숙박2['숙박점수_역'] + 0.5*숙박2['명소수_norm']"
   ]
  },
  {
   "cell_type": "code",
   "execution_count": 23,
   "id": "374f7b59-2cfa-423d-ab05-f68f4a997feb",
   "metadata": {},
   "outputs": [
    {
     "data": {
      "text/plain": [
       "주변명소 수\n",
       "0     698\n",
       "15    133\n",
       "8     121\n",
       "59    117\n",
       "16    104\n",
       "4     101\n",
       "18     87\n",
       "5      76\n",
       "13     62\n",
       "51     52\n",
       "34     48\n",
       "27     45\n",
       "9      32\n",
       "56     28\n",
       "12     28\n",
       "14     26\n",
       "19     22\n",
       "30     21\n",
       "10     20\n",
       "47     19\n",
       "6      17\n",
       "11     16\n",
       "46     16\n",
       "3      15\n",
       "50     15\n",
       "24     15\n",
       "1      14\n",
       "31     13\n",
       "43     12\n",
       "28     11\n",
       "20     10\n",
       "17      9\n",
       "60      6\n",
       "23      6\n",
       "54      6\n",
       "37      4\n",
       "65      4\n",
       "21      4\n",
       "53      4\n",
       "62      3\n",
       "40      3\n",
       "61      2\n",
       "35      2\n",
       "26      2\n",
       "52      2\n",
       "64      2\n",
       "7       2\n",
       "63      1\n",
       "48      1\n",
       "2       1\n",
       "29      1\n",
       "33      1\n",
       "Name: count, dtype: int64"
      ]
     },
     "execution_count": 23,
     "metadata": {},
     "output_type": "execute_result"
    }
   ],
   "source": [
    "숙박2['주변명소 수'].value_counts()"
   ]
  },
  {
   "cell_type": "code",
   "execution_count": 24,
   "id": "6431b445-8f14-4e07-a9eb-8b6a67a69704",
   "metadata": {},
   "outputs": [],
   "source": [
    "from sklearn.preprocessing import MinMaxScaler\n",
    "\n",
    "scaler = MinMaxScaler()\n",
    "숙박3['숙박점수_norm'] = scaler.fit_transform(숙박3[['숙박점수']])\n",
    "숙박3['명소수_norm'] = scaler.fit_transform(숙박3[['주변명소 수']])\n",
    "\n",
    "숙박3['숙박점수_역'] = 1-숙박3['숙박점수_norm']\n",
    "숙박3['종합점수'] = 0.5*숙박3['숙박점수_역'] + 0.5*숙박3['명소수_norm']"
   ]
  },
  {
   "cell_type": "code",
   "execution_count": 25,
   "id": "8973b076-7a1c-49f7-af51-6c16aa38bcf1",
   "metadata": {},
   "outputs": [
    {
     "data": {
      "text/plain": [
       "주변명소 수\n",
       "0     507\n",
       "22    169\n",
       "8     127\n",
       "4      83\n",
       "47     60\n",
       "     ... \n",
       "11      1\n",
       "7       1\n",
       "27      1\n",
       "64      1\n",
       "14      1\n",
       "Name: count, Length: 65, dtype: int64"
      ]
     },
     "execution_count": 25,
     "metadata": {},
     "output_type": "execute_result"
    }
   ],
   "source": [
    "숙박3['주변명소 수'].value_counts()"
   ]
  },
  {
   "cell_type": "code",
   "execution_count": null,
   "id": "8d8f4791-1b7c-48e7-a87f-aa7a0ef31cd8",
   "metadata": {},
   "outputs": [],
   "source": []
  }
 ],
 "metadata": {
  "kernelspec": {
   "display_name": "Python 3 (ipykernel)",
   "language": "python",
   "name": "python3"
  },
  "language_info": {
   "codemirror_mode": {
    "name": "ipython",
    "version": 3
   },
   "file_extension": ".py",
   "mimetype": "text/x-python",
   "name": "python",
   "nbconvert_exporter": "python",
   "pygments_lexer": "ipython3",
   "version": "3.12.7"
  }
 },
 "nbformat": 4,
 "nbformat_minor": 5
}
