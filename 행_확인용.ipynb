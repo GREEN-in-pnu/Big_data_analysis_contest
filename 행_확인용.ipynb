{
 "cells": [
  {
   "cell_type": "code",
   "execution_count": 1,
   "id": "bc5d947e-2343-465a-923f-0795a6c8120f",
   "metadata": {},
   "outputs": [],
   "source": [
    "import pandas as pd"
   ]
  },
  {
   "cell_type": "code",
   "execution_count": 3,
   "id": "2b4ce1b7-6464-4279-a0ca-64da6e0886ff",
   "metadata": {},
   "outputs": [],
   "source": [
    "지하철_좌표 = pd.read_csv('지하철역_좌표.csv')\n",
    "\n",
    "# Windows 한글 인코딩 (CP949 또는 EUC-KR)로 읽기\n",
    "지하철_역명 = pd.read_csv(\"C:/Users/say87/Documents/big_data_analysis_contest/부산교통공사_도시철도 역명정보_20240930.csv\", encoding='cp949')\n"
   ]
  },
  {
   "cell_type": "code",
   "execution_count": 5,
   "id": "6a1e3c77-2287-4721-b821-5a7a932d684c",
   "metadata": {},
   "outputs": [
    {
     "data": {
      "text/html": [
       "<div>\n",
       "<style scoped>\n",
       "    .dataframe tbody tr th:only-of-type {\n",
       "        vertical-align: middle;\n",
       "    }\n",
       "\n",
       "    .dataframe tbody tr th {\n",
       "        vertical-align: top;\n",
       "    }\n",
       "\n",
       "    .dataframe thead th {\n",
       "        text-align: right;\n",
       "    }\n",
       "</style>\n",
       "<table border=\"1\" class=\"dataframe\">\n",
       "  <thead>\n",
       "    <tr style=\"text-align: right;\">\n",
       "      <th></th>\n",
       "      <th>SWST_ID</th>\n",
       "      <th>TZ_AREA_VAL</th>\n",
       "      <th>TZ_AREA_XCRDT_VAL</th>\n",
       "      <th>TZ_AREA_YCRDT_VAL</th>\n",
       "      <th>DATE_UPD</th>\n",
       "    </tr>\n",
       "  </thead>\n",
       "  <tbody>\n",
       "    <tr>\n",
       "      <th>0</th>\n",
       "      <td>100</td>\n",
       "      <td>2110058020014</td>\n",
       "      <td>128.970955</td>\n",
       "      <td>35.088275</td>\n",
       "      <td>2022-07-19</td>\n",
       "    </tr>\n",
       "    <tr>\n",
       "      <th>1</th>\n",
       "      <td>101</td>\n",
       "      <td>2110059010001</td>\n",
       "      <td>128.960565</td>\n",
       "      <td>35.091202</td>\n",
       "      <td>2022-07-19</td>\n",
       "    </tr>\n",
       "    <tr>\n",
       "      <th>2</th>\n",
       "      <td>102</td>\n",
       "      <td>2110056020006</td>\n",
       "      <td>128.966655</td>\n",
       "      <td>35.105667</td>\n",
       "      <td>2022-07-19</td>\n",
       "    </tr>\n",
       "    <tr>\n",
       "      <th>3</th>\n",
       "      <td>103</td>\n",
       "      <td>2110055030007</td>\n",
       "      <td>128.973159</td>\n",
       "      <td>35.104463</td>\n",
       "      <td>2022-07-19</td>\n",
       "    </tr>\n",
       "    <tr>\n",
       "      <th>4</th>\n",
       "      <td>104</td>\n",
       "      <td>2110054020005</td>\n",
       "      <td>128.982843</td>\n",
       "      <td>35.101077</td>\n",
       "      <td>2022-07-19</td>\n",
       "    </tr>\n",
       "  </tbody>\n",
       "</table>\n",
       "</div>"
      ],
      "text/plain": [
       "   SWST_ID    TZ_AREA_VAL  TZ_AREA_XCRDT_VAL  TZ_AREA_YCRDT_VAL    DATE_UPD\n",
       "0      100  2110058020014         128.970955          35.088275  2022-07-19\n",
       "1      101  2110059010001         128.960565          35.091202  2022-07-19\n",
       "2      102  2110056020006         128.966655          35.105667  2022-07-19\n",
       "3      103  2110055030007         128.973159          35.104463  2022-07-19\n",
       "4      104  2110054020005         128.982843          35.101077  2022-07-19"
      ]
     },
     "execution_count": 5,
     "metadata": {},
     "output_type": "execute_result"
    }
   ],
   "source": [
    "지하철_좌표.head()"
   ]
  },
  {
   "cell_type": "code",
   "execution_count": 6,
   "id": "79dd93c8-3500-422b-be4e-1c089a44231e",
   "metadata": {},
   "outputs": [],
   "source": [
    "# import pandas as pd\n",
    "\n",
    "# 1. CSV 또는 이미 로드된 두 데이터프레임\n",
    "# 지하철_역명 = pd.read_csv('지하철_역명.csv', encoding='cp949')\n",
    "# 지하철_좌표 = pd.read_csv('지하철_좌표.csv', encoding='cp949')\n",
    "\n",
    "# 2. 컬럼명이 정확히 아래와 같다고 가정\n",
    "# 지하철_역명: ['역번호', '역명']\n",
    "# 지하철_좌표: ['SWST_ID', 'TZ_AREA_XCRDT_VAL', 'TZ_AREA_YCRDT_VAL']\n",
    "\n",
    "# 3. 병합 (역번호와 SWST_ID 기준)\n",
    "지하철 = pd.merge(\n",
    "    지하철_역명[['역번호', '역명']],\n",
    "    지하철_좌표[['SWST_ID', 'TZ_AREA_XCRDT_VAL', 'TZ_AREA_YCRDT_VAL']],\n",
    "    left_on='역번호',\n",
    "    right_on='SWST_ID',\n",
    "    how='inner'\n",
    ")\n",
    "\n",
    "# 4. 필요한 컬럼만 선택\n",
    "지하철 = 지하철[['역명', 'TZ_AREA_XCRDT_VAL', 'TZ_AREA_YCRDT_VAL']]\n",
    "\n",
    "# 5. CSV 저장\n",
    "# 지하철.to_csv('지하철.csv', encoding='utf-8', index=False)\n"
   ]
  },
  {
   "cell_type": "code",
   "execution_count": 7,
   "id": "cc423821-e9b4-45af-8592-411350503192",
   "metadata": {},
   "outputs": [
    {
     "data": {
      "text/html": [
       "<div>\n",
       "<style scoped>\n",
       "    .dataframe tbody tr th:only-of-type {\n",
       "        vertical-align: middle;\n",
       "    }\n",
       "\n",
       "    .dataframe tbody tr th {\n",
       "        vertical-align: top;\n",
       "    }\n",
       "\n",
       "    .dataframe thead th {\n",
       "        text-align: right;\n",
       "    }\n",
       "</style>\n",
       "<table border=\"1\" class=\"dataframe\">\n",
       "  <thead>\n",
       "    <tr style=\"text-align: right;\">\n",
       "      <th></th>\n",
       "      <th>역명</th>\n",
       "      <th>TZ_AREA_XCRDT_VAL</th>\n",
       "      <th>TZ_AREA_YCRDT_VAL</th>\n",
       "    </tr>\n",
       "  </thead>\n",
       "  <tbody>\n",
       "    <tr>\n",
       "      <th>0</th>\n",
       "      <td>다대포해수욕장</td>\n",
       "      <td>128.965340</td>\n",
       "      <td>35.050268</td>\n",
       "    </tr>\n",
       "    <tr>\n",
       "      <th>1</th>\n",
       "      <td>다대포항</td>\n",
       "      <td>128.971290</td>\n",
       "      <td>35.057729</td>\n",
       "    </tr>\n",
       "    <tr>\n",
       "      <th>2</th>\n",
       "      <td>낫개</td>\n",
       "      <td>128.992370</td>\n",
       "      <td>35.050865</td>\n",
       "    </tr>\n",
       "    <tr>\n",
       "      <th>3</th>\n",
       "      <td>신장림</td>\n",
       "      <td>128.978174</td>\n",
       "      <td>35.072813</td>\n",
       "    </tr>\n",
       "    <tr>\n",
       "      <th>4</th>\n",
       "      <td>장림</td>\n",
       "      <td>128.981961</td>\n",
       "      <td>35.078850</td>\n",
       "    </tr>\n",
       "  </tbody>\n",
       "</table>\n",
       "</div>"
      ],
      "text/plain": [
       "        역명  TZ_AREA_XCRDT_VAL  TZ_AREA_YCRDT_VAL\n",
       "0  다대포해수욕장         128.965340          35.050268\n",
       "1     다대포항         128.971290          35.057729\n",
       "2       낫개         128.992370          35.050865\n",
       "3      신장림         128.978174          35.072813\n",
       "4       장림         128.981961          35.078850"
      ]
     },
     "execution_count": 7,
     "metadata": {},
     "output_type": "execute_result"
    }
   ],
   "source": [
    "지하철.head()"
   ]
  },
  {
   "cell_type": "code",
   "execution_count": 8,
   "id": "a47f8899-a648-4bde-a78b-7bbb1be5d5ec",
   "metadata": {},
   "outputs": [],
   "source": [
    "지하철.to_csv('지하철.csv', encoding='utf-8', index=False)"
   ]
  },
  {
   "cell_type": "code",
   "execution_count": 15,
   "id": "8878bbaf-c0e5-49e6-a923-6866ab3a3efe",
   "metadata": {},
   "outputs": [],
   "source": [
    "지하철 = pd.read_csv('지하철.csv')\n",
    "# 지하철[지하철['역명'=='경성대·부경대역']]"
   ]
  },
  {
   "cell_type": "code",
   "execution_count": 14,
   "id": "a6c1a9a5-aefa-4c26-a075-41044b02bb7a",
   "metadata": {},
   "outputs": [
    {
     "data": {
      "text/html": [
       "<div>\n",
       "<style scoped>\n",
       "    .dataframe tbody tr th:only-of-type {\n",
       "        vertical-align: middle;\n",
       "    }\n",
       "\n",
       "    .dataframe tbody tr th {\n",
       "        vertical-align: top;\n",
       "    }\n",
       "\n",
       "    .dataframe thead th {\n",
       "        text-align: right;\n",
       "    }\n",
       "</style>\n",
       "<table border=\"1\" class=\"dataframe\">\n",
       "  <thead>\n",
       "    <tr style=\"text-align: right;\">\n",
       "      <th></th>\n",
       "      <th>역명</th>\n",
       "      <th>TZ_AREA_XCRDT_VAL</th>\n",
       "      <th>TZ_AREA_YCRDT_VAL</th>\n",
       "    </tr>\n",
       "  </thead>\n",
       "  <tbody>\n",
       "    <tr>\n",
       "      <th>51</th>\n",
       "      <td>경성대·부경대</td>\n",
       "      <td>129.100453</td>\n",
       "      <td>35.136953</td>\n",
       "    </tr>\n",
       "  </tbody>\n",
       "</table>\n",
       "</div>"
      ],
      "text/plain": [
       "         역명  TZ_AREA_XCRDT_VAL  TZ_AREA_YCRDT_VAL\n",
       "51  경성대·부경대         129.100453          35.136953"
      ]
     },
     "execution_count": 14,
     "metadata": {},
     "output_type": "execute_result"
    }
   ],
   "source": [
    "지하철[지하철['역명'] == '경성대·부경대']"
   ]
  },
  {
   "cell_type": "code",
   "execution_count": 23,
   "id": "a19afee5-1fae-4e1c-8899-db5968e955df",
   "metadata": {},
   "outputs": [
    {
     "data": {
      "text/html": [
       "<div>\n",
       "<style scoped>\n",
       "    .dataframe tbody tr th:only-of-type {\n",
       "        vertical-align: middle;\n",
       "    }\n",
       "\n",
       "    .dataframe tbody tr th {\n",
       "        vertical-align: top;\n",
       "    }\n",
       "\n",
       "    .dataframe thead th {\n",
       "        text-align: right;\n",
       "    }\n",
       "</style>\n",
       "<table border=\"1\" class=\"dataframe\">\n",
       "  <thead>\n",
       "    <tr style=\"text-align: right;\">\n",
       "      <th></th>\n",
       "      <th>역명</th>\n",
       "      <th>TZ_AREA_XCRDT_VAL</th>\n",
       "      <th>TZ_AREA_YCRDT_VAL</th>\n",
       "    </tr>\n",
       "  </thead>\n",
       "  <tbody>\n",
       "    <tr>\n",
       "      <th>18</th>\n",
       "      <td>부산역</td>\n",
       "      <td>129.048439</td>\n",
       "      <td>35.119652</td>\n",
       "    </tr>\n",
       "  </tbody>\n",
       "</table>\n",
       "</div>"
      ],
      "text/plain": [
       "     역명  TZ_AREA_XCRDT_VAL  TZ_AREA_YCRDT_VAL\n",
       "18  부산역         129.048439          35.119652"
      ]
     },
     "execution_count": 23,
     "metadata": {},
     "output_type": "execute_result"
    }
   ],
   "source": [
    "지하철[지하철['역명'] == '부산역']"
   ]
  },
  {
   "cell_type": "code",
   "execution_count": null,
   "id": "28089c80-04d3-46f9-9f1f-3ee4ddf5c55e",
   "metadata": {},
   "outputs": [],
   "source": [
    "경성대·부경대"
   ]
  },
  {
   "cell_type": "code",
   "execution_count": 16,
   "id": "bebea80e-21b2-42c3-8a39-2bbc7ae227b4",
   "metadata": {},
   "outputs": [],
   "source": [
    "버스 = pd.read_csv('버스정류장_좌표.csv')"
   ]
  },
  {
   "cell_type": "code",
   "execution_count": 27,
   "id": "2a7af966-bd31-4601-8d48-1648a418aeea",
   "metadata": {},
   "outputs": [
    {
     "data": {
      "text/html": [
       "<div>\n",
       "<style scoped>\n",
       "    .dataframe tbody tr th:only-of-type {\n",
       "        vertical-align: middle;\n",
       "    }\n",
       "\n",
       "    .dataframe tbody tr th {\n",
       "        vertical-align: top;\n",
       "    }\n",
       "\n",
       "    .dataframe thead th {\n",
       "        text-align: right;\n",
       "    }\n",
       "</style>\n",
       "<table border=\"1\" class=\"dataframe\">\n",
       "  <thead>\n",
       "    <tr style=\"text-align: right;\">\n",
       "      <th></th>\n",
       "      <th>STN_CD</th>\n",
       "      <th>LONGITUDE</th>\n",
       "      <th>LATITUDE</th>\n",
       "      <th>STN_NM</th>\n",
       "      <th>LOAD_DATE</th>\n",
       "    </tr>\n",
       "  </thead>\n",
       "  <tbody>\n",
       "  </tbody>\n",
       "</table>\n",
       "</div>"
      ],
      "text/plain": [
       "Empty DataFrame\n",
       "Columns: [STN_CD, LONGITUDE, LATITUDE, STN_NM, LOAD_DATE]\n",
       "Index: []"
      ]
     },
     "execution_count": 27,
     "metadata": {},
     "output_type": "execute_result"
    }
   ],
   "source": [
    "버스[버스['STN_NM']=='(구)MBC방송국']\n",
    "# 같은 이름의 역 중에 노드와 가장 가까이에 있는 역을 들른다고 가정함."
   ]
  },
  {
   "cell_type": "code",
   "execution_count": 24,
   "id": "89c805f1-06d3-4c3e-8fc4-1de7c020e44e",
   "metadata": {},
   "outputs": [],
   "source": [
    "관광 = pd.read_csv('관광_3요소.csv')"
   ]
  },
  {
   "cell_type": "code",
   "execution_count": 26,
   "id": "70de2157-8c21-4193-af9e-8938292b3955",
   "metadata": {},
   "outputs": [
    {
     "data": {
      "text/html": [
       "<div>\n",
       "<style scoped>\n",
       "    .dataframe tbody tr th:only-of-type {\n",
       "        vertical-align: middle;\n",
       "    }\n",
       "\n",
       "    .dataframe tbody tr th {\n",
       "        vertical-align: top;\n",
       "    }\n",
       "\n",
       "    .dataframe thead th {\n",
       "        text-align: right;\n",
       "    }\n",
       "</style>\n",
       "<table border=\"1\" class=\"dataframe\">\n",
       "  <thead>\n",
       "    <tr style=\"text-align: right;\">\n",
       "      <th></th>\n",
       "      <th>Unnamed: 0</th>\n",
       "      <th>LOC_NM</th>\n",
       "      <th>LATITUDE</th>\n",
       "      <th>LONGITUDE</th>\n",
       "      <th>관광_지하철</th>\n",
       "      <th>관광_숙박</th>\n",
       "      <th>관광_식음</th>\n",
       "    </tr>\n",
       "  </thead>\n",
       "  <tbody>\n",
       "    <tr>\n",
       "      <th>21</th>\n",
       "      <td>21</td>\n",
       "      <td>몰운대</td>\n",
       "      <td>35.046382</td>\n",
       "      <td>128.968007</td>\n",
       "      <td>1</td>\n",
       "      <td>1</td>\n",
       "      <td>41</td>\n",
       "    </tr>\n",
       "    <tr>\n",
       "      <th>90</th>\n",
       "      <td>90</td>\n",
       "      <td>몰운대</td>\n",
       "      <td>35.046382</td>\n",
       "      <td>128.968007</td>\n",
       "      <td>1</td>\n",
       "      <td>1</td>\n",
       "      <td>41</td>\n",
       "    </tr>\n",
       "    <tr>\n",
       "      <th>159</th>\n",
       "      <td>159</td>\n",
       "      <td>몰운대</td>\n",
       "      <td>35.046382</td>\n",
       "      <td>128.968007</td>\n",
       "      <td>1</td>\n",
       "      <td>1</td>\n",
       "      <td>41</td>\n",
       "    </tr>\n",
       "  </tbody>\n",
       "</table>\n",
       "</div>"
      ],
      "text/plain": [
       "     Unnamed: 0 LOC_NM   LATITUDE   LONGITUDE  관광_지하철  관광_숙박  관광_식음\n",
       "21           21    몰운대  35.046382  128.968007       1      1     41\n",
       "90           90    몰운대  35.046382  128.968007       1      1     41\n",
       "159         159    몰운대  35.046382  128.968007       1      1     41"
      ]
     },
     "execution_count": 26,
     "metadata": {},
     "output_type": "execute_result"
    }
   ],
   "source": [
    "관광[관광['LOC_NM']=='몰운대']"
   ]
  },
  {
   "cell_type": "code",
   "execution_count": null,
   "id": "742ee164-2ee5-4769-b418-92feb94b1d98",
   "metadata": {},
   "outputs": [],
   "source": []
  }
 ],
 "metadata": {
  "kernelspec": {
   "display_name": "Python 3 (ipykernel)",
   "language": "python",
   "name": "python3"
  },
  "language_info": {
   "codemirror_mode": {
    "name": "ipython",
    "version": 3
   },
   "file_extension": ".py",
   "mimetype": "text/x-python",
   "name": "python",
   "nbconvert_exporter": "python",
   "pygments_lexer": "ipython3",
   "version": "3.11.9"
  }
 },
 "nbformat": 4,
 "nbformat_minor": 5
}
